{
 "cells": [
  {
   "cell_type": "markdown",
   "metadata": {},
   "source": [
    "# Ordinary Least Squares"
   ]
  },
  {
   "cell_type": "markdown",
   "metadata": {},
   "source": [
    "## Basic Idea\n",
    "\n",
    "For modeling linear relationships between one or more predictors (continuous or categorical) and a continuous response variable.\n",
    "\n",
    "Good fit requires a truly linear relationship; sometimes a logarithmic or similar linear transform (Box-cox, sqrt, inverse, etc.) can be applied to yield a linear relationship.\n",
    "\n",
    "Model is a linear combination of the predictors; e.g. `y = B_0 + B_1 * x_1 + B_2 * x_2 ...`\n",
    "\n",
    "Beta coefficients are trained by a simple LS method (sum of squared difference between actual y and modeled y at each observation)\n",
    "\n",
    "Closed form solution is `B_hat = (X'X)^-1 * X'Y`"
   ]
  },
  {
   "cell_type": "markdown",
   "metadata": {},
   "source": [
    "## Considerations\n",
    "\n",
    "- Residual plot should appear uniformly random distributed (patterns in resuiduals suggest nonlinear data)\n",
    "- Following assumptions should be considered:\n",
    "    - Normality\n",
    "    - Homoscedasticity (constant sigma)\n",
    "    - Independence (residuals, y_i's independent)\n",
    "    - No outliers\n",
    "    - Model correctly specified (linear)"
   ]
  },
  {
   "cell_type": "markdown",
   "metadata": {},
   "source": [
    "## Useful Diagnostics\n",
    "\n",
    "- Residual plot\n",
    "- Q-Q plot\n",
    "- VIF's `(< 10)` or Correlation Matrix (`~< 0.8`)\n",
    "- Runs Test\n",
    "- Leverage (`< 2(p+1)/n`) / Cook's Distance (`> 4/(n-p-1)`)\n",
    "- Autocorrelation (`cor(y_i-1, y_i)`)"
   ]
  },
  {
   "cell_type": "markdown",
   "metadata": {},
   "source": [
    "## How do we actually fit?\n",
    "\n",
    "- Can perform stepwise regression to automate variable selection\n",
    "- Alternatively, can compute partial correlation coefficients (marginal benefit of adding x_i)\n",
    "- Standardize model and compare resulting coefficients (magnitude / significance)"
   ]
  },
  {
   "cell_type": "markdown",
   "metadata": {},
   "source": [
    "## Example"
   ]
  },
  {
   "cell_type": "code",
   "execution_count": 1,
   "metadata": {},
   "outputs": [],
   "source": [
    "import pandas as pd\n",
    "import numpy as np\n",
    "from sklearn import linear_model\n",
    "from sklearn.model_selection import cross_val_score\n",
    "from sklearn.preprocessing import StandardScaler, MinMaxScaler\n",
    "from tabulate import tabulate"
   ]
  },
  {
   "cell_type": "code",
   "execution_count": 2,
   "metadata": {},
   "outputs": [
    {
     "data": {
      "text/html": [
       "<div>\n",
       "<style scoped>\n",
       "    .dataframe tbody tr th:only-of-type {\n",
       "        vertical-align: middle;\n",
       "    }\n",
       "\n",
       "    .dataframe tbody tr th {\n",
       "        vertical-align: top;\n",
       "    }\n",
       "\n",
       "    .dataframe thead th {\n",
       "        text-align: right;\n",
       "    }\n",
       "</style>\n",
       "<table border=\"1\" class=\"dataframe\">\n",
       "  <thead>\n",
       "    <tr style=\"text-align: right;\">\n",
       "      <th></th>\n",
       "      <th>Cement</th>\n",
       "      <th>Slag</th>\n",
       "      <th>FlyAsh</th>\n",
       "      <th>Water</th>\n",
       "      <th>SPlast</th>\n",
       "      <th>CAgg</th>\n",
       "      <th>FAgg</th>\n",
       "      <th>Age</th>\n",
       "      <th>Strength</th>\n",
       "    </tr>\n",
       "  </thead>\n",
       "  <tbody>\n",
       "    <tr>\n",
       "      <th>0</th>\n",
       "      <td>540.0</td>\n",
       "      <td>0.0</td>\n",
       "      <td>0.0</td>\n",
       "      <td>162.0</td>\n",
       "      <td>2.5</td>\n",
       "      <td>1040.0</td>\n",
       "      <td>676.0</td>\n",
       "      <td>28.0</td>\n",
       "      <td>79.99</td>\n",
       "    </tr>\n",
       "    <tr>\n",
       "      <th>1</th>\n",
       "      <td>540.0</td>\n",
       "      <td>0.0</td>\n",
       "      <td>0.0</td>\n",
       "      <td>162.0</td>\n",
       "      <td>2.5</td>\n",
       "      <td>1055.0</td>\n",
       "      <td>676.0</td>\n",
       "      <td>28.0</td>\n",
       "      <td>61.89</td>\n",
       "    </tr>\n",
       "    <tr>\n",
       "      <th>2</th>\n",
       "      <td>332.5</td>\n",
       "      <td>142.5</td>\n",
       "      <td>0.0</td>\n",
       "      <td>228.0</td>\n",
       "      <td>0.0</td>\n",
       "      <td>932.0</td>\n",
       "      <td>594.0</td>\n",
       "      <td>270.0</td>\n",
       "      <td>40.27</td>\n",
       "    </tr>\n",
       "    <tr>\n",
       "      <th>3</th>\n",
       "      <td>332.5</td>\n",
       "      <td>142.5</td>\n",
       "      <td>0.0</td>\n",
       "      <td>228.0</td>\n",
       "      <td>0.0</td>\n",
       "      <td>932.0</td>\n",
       "      <td>594.0</td>\n",
       "      <td>365.0</td>\n",
       "      <td>41.05</td>\n",
       "    </tr>\n",
       "    <tr>\n",
       "      <th>4</th>\n",
       "      <td>198.6</td>\n",
       "      <td>132.4</td>\n",
       "      <td>0.0</td>\n",
       "      <td>192.0</td>\n",
       "      <td>0.0</td>\n",
       "      <td>978.4</td>\n",
       "      <td>825.5</td>\n",
       "      <td>360.0</td>\n",
       "      <td>44.30</td>\n",
       "    </tr>\n",
       "  </tbody>\n",
       "</table>\n",
       "</div>"
      ],
      "text/plain": [
       "   Cement   Slag  FlyAsh  Water  SPlast    CAgg   FAgg    Age  Strength\n",
       "0   540.0    0.0     0.0  162.0     2.5  1040.0  676.0   28.0     79.99\n",
       "1   540.0    0.0     0.0  162.0     2.5  1055.0  676.0   28.0     61.89\n",
       "2   332.5  142.5     0.0  228.0     0.0   932.0  594.0  270.0     40.27\n",
       "3   332.5  142.5     0.0  228.0     0.0   932.0  594.0  365.0     41.05\n",
       "4   198.6  132.4     0.0  192.0     0.0   978.4  825.5  360.0     44.30"
      ]
     },
     "execution_count": 2,
     "metadata": {},
     "output_type": "execute_result"
    }
   ],
   "source": [
    "concrete = pd.read_csv('../data/concrete.csv')\n",
    "concrete.Age = concrete.Age.astype(float)\n",
    "concrete.head()"
   ]
  },
  {
   "cell_type": "code",
   "execution_count": 3,
   "metadata": {},
   "outputs": [],
   "source": [
    "x = concrete.iloc[:, 0:8]\n",
    "y = np.array(concrete.iloc[:, 8])"
   ]
  },
  {
   "cell_type": "code",
   "execution_count": 4,
   "metadata": {},
   "outputs": [
    {
     "name": "stdout",
     "output_type": "stream",
     "text": [
      "Accuracy: 0.55 (+/- 0.10)\n"
     ]
    }
   ],
   "source": [
    "reg = linear_model.LinearRegression()\n",
    "scores = cross_val_score(reg, x, y, cv=3)\n",
    "print('Accuracy: {:0.2f} (+/- {:0.2f})'.format(scores.mean(), scores.std() * 2))"
   ]
  },
  {
   "cell_type": "code",
   "execution_count": 5,
   "metadata": {
    "scrolled": false
   },
   "outputs": [
    {
     "name": "stdout",
     "output_type": "stream",
     "text": [
      "------  ----------\n",
      "Cement   0.119804\n",
      "Slag     0.103866\n",
      "FlyAsh   0.0879343\n",
      "Water   -0.149918\n",
      "SPlast   0.292225\n",
      "CAgg     0.0180862\n",
      "FAgg     0.0201904\n",
      "Age      0.114222\n",
      "------  ----------\n"
     ]
    }
   ],
   "source": [
    "reg.fit(x, y)\n",
    "print(tabulate(list(zip(x.columns, reg.coef_))))"
   ]
  },
  {
   "cell_type": "markdown",
   "metadata": {},
   "source": [
    "### Again with scaled data"
   ]
  },
  {
   "cell_type": "code",
   "execution_count": 6,
   "metadata": {},
   "outputs": [
    {
     "data": {
      "text/plain": [
       "MinMaxScaler(copy=True, feature_range=(0, 1))"
      ]
     },
     "execution_count": 6,
     "metadata": {},
     "output_type": "execute_result"
    }
   ],
   "source": [
    "std_scaler = StandardScaler()\n",
    "mm_scaler = MinMaxScaler()\n",
    "std_scaler.fit(x)\n",
    "mm_scaler.fit(y.reshape(-1,1))"
   ]
  },
  {
   "cell_type": "code",
   "execution_count": 7,
   "metadata": {},
   "outputs": [],
   "source": [
    "x_scale = std_scaler.transform(x)\n",
    "y_scale = mm_scaler.transform(y.reshape(-1,1))"
   ]
  },
  {
   "cell_type": "code",
   "execution_count": 8,
   "metadata": {},
   "outputs": [
    {
     "name": "stdout",
     "output_type": "stream",
     "text": [
      "Accuracy: 0.55 (+/- 0.10)\n"
     ]
    }
   ],
   "source": [
    "reg = linear_model.LinearRegression()\n",
    "scores = cross_val_score(reg, x_scale, y_scale, cv=3)\n",
    "print('Accuracy: {:0.2f} (+/- {:0.2f})'.format(scores.mean(), scores.std() * 2))"
   ]
  },
  {
   "cell_type": "markdown",
   "metadata": {},
   "source": [
    "## Diagnostics"
   ]
  },
  {
   "cell_type": "code",
   "execution_count": 9,
   "metadata": {},
   "outputs": [],
   "source": [
    "%matplotlib inline\n",
    "from scipy.stats import probplot\n",
    "import matplotlib.pyplot as plt\n",
    "import seaborn as sns\n",
    "plt.rcParams[\"figure.figsize\"] = (18,6)"
   ]
  },
  {
   "cell_type": "markdown",
   "metadata": {},
   "source": [
    "### Normal Plot"
   ]
  },
  {
   "cell_type": "code",
   "execution_count": 10,
   "metadata": {},
   "outputs": [
    {
     "data": {
      "image/png": "[encoded data removed]",
      "text/plain": [
       "<Figure size 432x288 with 1 Axes>"
      ]
     },
     "metadata": {
      "needs_background": "light"
     },
     "output_type": "display_data"
    }
   ],
   "source": [
    "reg.fit(x, y)\n",
    "probplot(y - reg.predict(x), plot=plt)\n",
    "plt.show()"
   ]
  },
  {
   "cell_type": "markdown",
   "metadata": {},
   "source": [
    "### Residual Plot"
   ]
  },
  {
   "cell_type": "code",
   "execution_count": 11,
   "metadata": {},
   "outputs": [
    {
     "data": {
      "text/plain": [
       "<matplotlib.axes._subplots.AxesSubplot at 0x1a1f11f160>"
      ]
     },
     "execution_count": 11,
     "metadata": {},
     "output_type": "execute_result"
    },
    {
     "data": {
      "image/png": "[encoded data removed]",
      "text/plain": [
       "<Figure size 432x288 with 1 Axes>"
      ]
     },
     "metadata": {},
     "output_type": "display_data"
    }
   ],
   "source": [
    "sns.set(style=\"whitegrid\")\n",
    "sns.residplot(reg.predict(x), y, lowess=True, color='grey', line_kws={'color': 'r'})"
   ]
  },
  {
   "cell_type": "markdown",
   "metadata": {},
   "source": [
    "### VIFs"
   ]
  },
  {
   "cell_type": "code",
   "execution_count": 12,
   "metadata": {},
   "outputs": [
    {
     "name": "stdout",
     "output_type": "stream",
     "text": [
      "------  -------\n",
      "Cement  7.48894\n",
      "Slag    7.27696\n",
      "FlyAsh  6.17063\n",
      "Water   7.00396\n",
      "SPlast  2.96378\n",
      "CAgg    5.07462\n",
      "FAgg    7.00508\n",
      "Age     1.11837\n",
      "------  -------\n"
     ]
    }
   ],
   "source": [
    "cor = x.corr().values\n",
    "inv = np.linalg.inv(cor)\n",
    "vifs = np.diagonal(inv)\n",
    "print(tabulate(zip(x.columns, vifs)))"
   ]
  }
 ],
 "metadata": {
  "kernelspec": {
   "display_name": "Python 3",
   "language": "python",
   "name": "python3"
  },
  "language_info": {
   "codemirror_mode": {
    "name": "ipython",
    "version": 3
   },
   "file_extension": ".py",
   "mimetype": "text/x-python",
   "name": "python",
   "nbconvert_exporter": "python",
   "pygments_lexer": "ipython3",
   "version": "3.7.1"
  }
 },
 "nbformat": 4,
 "nbformat_minor": 2
}
